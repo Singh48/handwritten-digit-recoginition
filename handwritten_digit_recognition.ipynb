{
  "nbformat": 4,
  "nbformat_minor": 0,
  "metadata": {
    "colab": {
      "name": "handwritten-digit-recognition.ipynb",
      "provenance": [],
      "collapsed_sections": []
    },
    "kernelspec": {
      "name": "python3",
      "display_name": "Python 3"
    }
  },
  "cells": [
    {
      "cell_type": "code",
      "metadata": {
        "id": "KSpyiXMb07q7"
      },
      "source": [
        "import numpy as np\r\n",
        "import matplotlib.pyplot as plt\r\n",
        "from tensorflow.keras.datasets import mnist\r\n",
        "from keras.utils.np_utils import to_categorical\r\n",
        "import time"
      ],
      "execution_count": 5,
      "outputs": []
    },
    {
      "cell_type": "code",
      "metadata": {
        "id": "cP6WHT_U1JLu"
      },
      "source": [
        "def sigmoid(x):\r\n",
        "    return 1/(1.0 + np.exp(-1*x))\r\n",
        "\r\n",
        "def sigmoid_prime(sig):\r\n",
        "    return sig * (1 - sig)\r\n",
        "\r\n",
        "def cost(y, y_pred):\r\n",
        "    return np.sum(np.square(y - y_pred))/(2*y.shape[0])"
      ],
      "execution_count": 6,
      "outputs": []
    },
    {
      "cell_type": "code",
      "metadata": {
        "id": "NqCPTzR_7LZC"
      },
      "source": [
        "def predict(x, wt, bs):\r\n",
        "    z = []\r\n",
        "    a = []\r\n",
        "\r\n",
        "    # forward propagation\r\n",
        "    z.append(np.dot(x,wt[0]))\r\n",
        "    z[0] += bs[0]\r\n",
        "    a.append(sigmoid(z[0]))\r\n",
        "    for i in range(len(wt)-1):\r\n",
        "        tmp = np.dot(a[i],wt[i+1])\r\n",
        "        tmp += bs[i+1]\r\n",
        "        z.append(tmp)\r\n",
        "        a.append(sigmoid(z[i+1]))\r\n",
        "    \r\n",
        "    return a[-1]"
      ],
      "execution_count": 7,
      "outputs": []
    },
    {
      "cell_type": "markdown",
      "metadata": {
        "id": "K4rorWwsDKx2"
      },
      "source": [
        "## Function to Train the Dataset"
      ]
    },
    {
      "cell_type": "code",
      "metadata": {
        "id": "9hUy3nYFgCe0"
      },
      "source": [
        "def train(x, y, nodes, epochs, alpha, wts, bys, flag):\n",
        "\n",
        "    if flag == 0:\n",
        "        # randomly initialising weights\n",
        "        #wts = []\n",
        "        for i in range(len(nodes)-1):\n",
        "            tmp = np.random.randn(nodes[i], nodes[i+1]) * np.sqrt(2/(nodes[i+1] + nodes[i]))\n",
        "            wts.append(tmp)\n",
        "        \n",
        "        # randomly initialising biases\n",
        "        #bys = []\n",
        "        for i in range(len(nodes)-1):\n",
        "            tmp = np.zeros((1, nodes[i+1]))\n",
        "            bys.append(tmp)\n",
        "\n",
        "    itr = 0;\n",
        "    while itr < epochs:\n",
        "        z = []\n",
        "        a = []\n",
        "\n",
        "        # forward propagation\n",
        "        z.append(np.dot(x,wts[0]))\n",
        "        z[0] += bys[0]\n",
        "        a.append(sigmoid(z[0]))\n",
        "        for i in range(len(wts)-1):\n",
        "            tmp = np.dot(a[i],wts[i+1])\n",
        "            tmp += bys[i+1]\n",
        "            z.append(tmp)\n",
        "            a.append(sigmoid(z[i+1]))\n",
        "\n",
        "\n",
        "        # backward propagation\n",
        "        d =[]\n",
        "        tmp = np.multiply((y - a[-1]), sigmoid_prime(a[-1]))\n",
        "        d.append(tmp)\n",
        "        l = len(wts)    # length of wts list\n",
        "        for i in range(l-1):\n",
        "            #print(d[i].shape, '\\n', d[i])\n",
        "            #print(wts[l-1-i].shape, '\\n', wts[l-1-i])\n",
        "            tmp = np.multiply(np.dot(d[i], wts[l-1-i].T), sigmoid_prime(a[l-2-i]))\n",
        "            d.append(tmp)\n",
        "        d.reverse()\n",
        "        # update weights and biases\n",
        "        n = x.shape[0]\n",
        "        wts[0] = wts[0] + alpha * np.dot(x.T, d[0]) / n\n",
        "        bys[0] = bys[0] + alpha * np.sum(d[0], axis=0) / n\n",
        "        for i in range(1,l):\n",
        "            wts[i] = wts[i] + alpha * np.dot(a[i-1].T, d[i]) / n\n",
        "            bys[i] = bys[i] + alpha * np.sum(d[i], axis=0) / n\n",
        "\n",
        "        itr += 1\n",
        "        \n",
        "    return wts, bys\n",
        "            "
      ],
      "execution_count": 8,
      "outputs": []
    },
    {
      "cell_type": "markdown",
      "metadata": {
        "id": "TYfJKbk5DfBM"
      },
      "source": [
        "## Loading the MNIST Data\r\n",
        "\r\n",
        "\r\n",
        "*   **X_train** and **X_test** contain 60000 and 10000 respectively images of dimensionn 28*28\r\n",
        "*   **Y_train** and **Y_test** contain labels for the above images\r\n",
        "\r\n",
        "\r\n",
        "\r\n"
      ]
    },
    {
      "cell_type": "code",
      "metadata": {
        "colab": {
          "base_uri": "https://localhost:8080/"
        },
        "id": "Tp-NCaLn5JAE",
        "outputId": "e5f178b8-34f0-4617-bd90-9bc8088b1c31"
      },
      "source": [
        "(X_train, Y_train), (X_test, Y_test) = mnist.load_data()\r\n",
        "print(X_train.shape, Y_train.shape)\r\n",
        "print(X_test.shape, Y_test.shape)\r\n",
        "\r\n",
        "X_train = X_train/255\r\n",
        "X_test = X_test/255\r\n",
        "\r\n",
        "X_train = X_train.reshape(X_train.shape[0],28*28)\r\n",
        "X_test = X_test.reshape(X_test.shape[0],28*28)\r\n",
        "\r\n",
        "Y_train_cat = to_categorical(Y_train,10)\r\n",
        "Y_test_cat = to_categorical(Y_test,10)\r\n",
        "\r\n",
        "print(X_train.shape, X_test.shape)\r\n",
        "print(Y_train_cat.shape, Y_test_cat.shape)"
      ],
      "execution_count": 9,
      "outputs": [
        {
          "output_type": "stream",
          "text": [
            "Downloading data from https://storage.googleapis.com/tensorflow/tf-keras-datasets/mnist.npz\n",
            "11493376/11490434 [==============================] - 0s 0us/step\n",
            "(60000, 28, 28) (60000,)\n",
            "(10000, 28, 28) (10000,)\n",
            "(60000, 784) (10000, 784)\n",
            "(60000, 10) (10000, 10)\n"
          ],
          "name": "stdout"
        }
      ]
    },
    {
      "cell_type": "markdown",
      "metadata": {
        "id": "1dGUNUN8YPzJ"
      },
      "source": [
        "## Training:\r\n",
        "* Stocastic Gradient Descent has been used\r\n",
        "* batch_size determines the size of minibatches being sent to train function to be trained\r\n",
        "* For each epoch the _train()_ function is run once on each of the minibatches\r\n",
        "    * For eg: if _batch_size_ is 100 and _ep_ is 100 then the _train()_ function is called 60000/100 = 6000 times in each epoch\r\n",
        "    * that implies _train()_ function is called in total of 6000*100 = 6e5 times"
      ]
    },
    {
      "cell_type": "code",
      "metadata": {
        "colab": {
          "base_uri": "https://localhost:8080/"
        },
        "id": "_QkneXsU7IcT",
        "outputId": "67571da2-0ac4-4c65-f7d5-075b82fb9dff"
      },
      "source": [
        "batch_size = 100\r\n",
        "s,e = 0,batch_size\r\n",
        "ep = 1e2\r\n",
        "lr = 0.9\r\n",
        "\r\n",
        "wts, bys = [], []\r\n",
        "total_cost = []\r\n",
        "flag = 0\r\n",
        "\r\n",
        "start_time = time.time()\r\n",
        "\r\n",
        "for i in range(int(ep)):\r\n",
        "    s,e = 0,batch_size\r\n",
        "\r\n",
        "    data = np.append(X_train, Y_train_cat, axis=1)\r\n",
        "    np.random.shuffle(data)\r\n",
        "    X_train, Y_train_cat = data[:, 0:X_train.shape[1]], data[:, X_train.shape[1]:data.shape[1]]\r\n",
        "\r\n",
        "\r\n",
        "\r\n",
        "    while e <= X_train.shape[0]:\r\n",
        "        wts, bys = train(X_train[s:e,:], Y_train_cat[s:e,:], [784, 157, 20, 10], 1, lr, wts, bys, flag)\r\n",
        "        flag = 1\r\n",
        "        s += batch_size\r\n",
        "        e += batch_size\r\n",
        "    \r\n",
        "    Y_pred = predict(X_train, wts, bys)\r\n",
        "    total_cost.append(cost(Y_train_cat, Y_pred))\r\n",
        "\r\n",
        "    if i%(ep//10) == 0:\r\n",
        "        print('iteration:', i, 'cost:', total_cost[-1])\r\n",
        "\r\n",
        "end_time = time.time()"
      ],
      "execution_count": 10,
      "outputs": [
        {
          "output_type": "stream",
          "text": [
            "iteration: 0 cost: 0.24016241567815105\n",
            "iteration: 10 cost: 0.04620763122962397\n",
            "iteration: 20 cost: 0.029141516342858262\n",
            "iteration: 30 cost: 0.021080013348334266\n",
            "iteration: 40 cost: 0.015707488168298766\n",
            "iteration: 50 cost: 0.012222968563091149\n",
            "iteration: 60 cost: 0.009997086511841616\n",
            "iteration: 70 cost: 0.008178149592036776\n",
            "iteration: 80 cost: 0.006639701027083247\n",
            "iteration: 90 cost: 0.005543096529118619\n"
          ],
          "name": "stdout"
        }
      ]
    },
    {
      "cell_type": "code",
      "metadata": {
        "colab": {
          "base_uri": "https://localhost:8080/"
        },
        "id": "fz2Go6V7lgDL",
        "outputId": "84328f93-bd7d-4d08-87c4-2b66265d73d5"
      },
      "source": [
        "print('time taken =', end_time-start_time, 's')\r\n",
        "print('time taken =', (end_time-start_time)/60, 'min')"
      ],
      "execution_count": 16,
      "outputs": [
        {
          "output_type": "stream",
          "text": [
            "time taken = 413.1752510070801 s\n",
            "time taken = 6.886254183451334 min\n"
          ],
          "name": "stdout"
        }
      ]
    },
    {
      "cell_type": "code",
      "metadata": {
        "id": "XY4b-No39evw",
        "colab": {
          "base_uri": "https://localhost:8080/",
          "height": 498
        },
        "outputId": "3f329d05-a363-4ed6-8f49-3afc50d4578a"
      },
      "source": [
        "fig = plt.figure(figsize=(15,8))\r\n",
        "plt.plot(range(int(ep)), total_cost)\r\n",
        "plt.xlabel('epochs')\r\n",
        "plt.ylabel('cost')\r\n",
        "plt.show()"
      ],
      "execution_count": 12,
      "outputs": [
        {
          "output_type": "display_data",
          "data": {
            "image/png": "[encoded data removed]",
            "text/plain": [
              "<Figure size 1080x576 with 1 Axes>"
            ]
          },
          "metadata": {
            "tags": [],
            "needs_background": "light"
          }
        }
      ]
    },
    {
      "cell_type": "code",
      "metadata": {
        "id": "b84I1Wi-XGoX",
        "colab": {
          "base_uri": "https://localhost:8080/"
        },
        "outputId": "9069e411-9874-49f1-dbfa-7a71c0f0f6f7"
      },
      "source": [
        "pred_train = predict(X_train, wts, bys)\r\n",
        "#pred_train = np.round(pred_train)\r\n",
        "temp1 = np.argmax(pred_train, axis=1)\r\n",
        "temp2 = np.argmax(Y_train_cat, axis=1)\r\n",
        "#print(np.sum(temp==Y_train))\r\n",
        "accu = np.sum(temp1 == temp2)*100/Y_train.shape[0]\r\n",
        "print('train accuracy =',accu)"
      ],
      "execution_count": 13,
      "outputs": [
        {
          "output_type": "stream",
          "text": [
            "train accuracy = 99.555\n"
          ],
          "name": "stdout"
        }
      ]
    },
    {
      "cell_type": "code",
      "metadata": {
        "id": "Z9yLD10AuvrQ",
        "colab": {
          "base_uri": "https://localhost:8080/"
        },
        "outputId": "78ac5ec2-3bb6-4ac9-8598-270e605972c0"
      },
      "source": [
        "pred_test = predict(X_test, wts, bys)\r\n",
        "temp = np.argmax(pred_test, axis=1)\r\n",
        "accu = np.sum(temp==Y_test)*100/Y_test.shape[0]\r\n",
        "print('test accuracy = ',accu)"
      ],
      "execution_count": 14,
      "outputs": [
        {
          "output_type": "stream",
          "text": [
            "test accuracy =  98.02\n"
          ],
          "name": "stdout"
        }
      ]
    }
  ]
}